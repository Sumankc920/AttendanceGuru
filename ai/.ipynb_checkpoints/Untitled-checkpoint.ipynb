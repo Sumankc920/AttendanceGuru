{
 "cells": [
  {
   "cell_type": "code",
   "execution_count": 2,
   "id": "d4a2199f",
   "metadata": {},
   "outputs": [],
   "source": [
    "import pickle"
   ]
  },
  {
   "cell_type": "code",
   "execution_count": 14,
   "id": "4ea39c78",
   "metadata": {},
   "outputs": [],
   "source": [
    "import cv2"
   ]
  },
  {
   "cell_type": "code",
   "execution_count": 15,
   "id": "f52799af",
   "metadata": {},
   "outputs": [],
   "source": [
    "from numpy import expand_dims"
   ]
  },
  {
   "cell_type": "code",
   "execution_count": 3,
   "id": "afab7776",
   "metadata": {},
   "outputs": [
    {
     "name": "stderr",
     "output_type": "stream",
     "text": [
      "/home/arun70/anaconda3/envs/AttendanceSystem/lib/python3.11/site-packages/sklearn/base.py:348: InconsistentVersionWarning: Trying to unpickle estimator SVC from version 1.3.0 when using version 1.3.1. This might lead to breaking code or invalid results. Use at your own risk. For more info please refer to:\n",
      "https://scikit-learn.org/stable/model_persistence.html#security-maintainability-limitations\n",
      "  warnings.warn(\n"
     ]
    }
   ],
   "source": [
    "model = pickle.load(open('face_recog_model.sav' , 'rb'))"
   ]
  },
  {
   "cell_type": "code",
   "execution_count": 9,
   "id": "a2f11a2c",
   "metadata": {},
   "outputs": [],
   "source": [
    "\n",
    "\n",
    "# Load an image from a file\n",
    "image = cv2.imread('arun.jpg')\n"
   ]
  },
  {
   "cell_type": "code",
   "execution_count": 10,
   "id": "7b2c7968",
   "metadata": {},
   "outputs": [],
   "source": [
    "from PIL import Image\n",
    "from numpy import asarray\n",
    "from mtcnn.mtcnn import MTCNN\n",
    "\n",
    "def extract_face(filename, required_size=(160, 160)):\n",
    "    # Load the image from file\n",
    "    image = Image.open(filename)\n",
    "    # Convert to RGB (if needed)\n",
    "    image = image.convert('RGB')\n",
    "    # Convert to array\n",
    "    pixels = asarray(image)\n",
    "    # Create the detector, using default weights\n",
    "    detector = MTCNN()\n",
    "    # Detect faces in the image\n",
    "    results = detector.detect_faces(pixels)\n",
    "    # Extract the bounding box from the first face\n",
    "    x1, y1, width, height = results[0]['box']\n",
    "    # Bug fix\n",
    "    x1, y1 = abs(x1), abs(y1)\n",
    "    x2, y2 = x1 + width, y1 + height\n",
    "    # Extract the face\n",
    "    face = pixels[y1:y2, x1:x2]\n",
    "    # Resize pixels to the model size\n",
    "    image = Image.fromarray(face)\n",
    "    image = image.resize(required_size)\n",
    "    face_array = asarray(image)\n",
    "    return face_array\n",
    "\n",
    "# Load the new image and prepare it\n",
    "new_image = 'arun.jpg'  # Provide the path to your new image\n",
    "new_face = extract_face(new_image)\n"
   ]
  },
  {
   "cell_type": "code",
   "execution_count": null,
   "id": "7051d243",
   "metadata": {},
   "outputs": [],
   "source": []
  }
 ],
 "metadata": {
  "kernelspec": {
   "display_name": "Python 3 (ipykernel)",
   "language": "python",
   "name": "python3"
  },
  "language_info": {
   "codemirror_mode": {
    "name": "ipython",
    "version": 3
   },
   "file_extension": ".py",
   "mimetype": "text/x-python",
   "name": "python",
   "nbconvert_exporter": "python",
   "pygments_lexer": "ipython3",
   "version": "3.11.3"
  }
 },
 "nbformat": 4,
 "nbformat_minor": 5
}
